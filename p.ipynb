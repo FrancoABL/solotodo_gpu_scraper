{
 "cells": [
  {
   "cell_type": "code",
   "execution_count": 1,
   "metadata": {},
   "outputs": [],
   "source": [
    "from time import sleep\n",
    "import json \n",
    "import pandas as pd\n",
    "from selenium import webdriver\n",
    "from webdriver_manager.chrome import ChromeDriverManager\n",
    "from selenium.webdriver.chrome.service import Service\n",
    "from selenium.webdriver.common.by import By\n",
    "from bs4 import BeautifulSoup"
   ]
  },
  {
   "cell_type": "code",
   "execution_count": null,
   "metadata": {},
   "outputs": [
    {
     "name": "stdout",
     "output_type": "stream",
     "text": [
      "soloto.com\n",
      "/products/152659-msi-geforce-gtx-1630-aero-itx-4g-oc-gtx-1630-aero-itx-4g-oc\n",
      "/products/70641-zotac-gaming-geforce-gtx-1660-super-twin-fan-zt-t16620f-10l\n",
      "/products/81323-gigabyte-geforce-gtx-1650-d6-oc-4g-gv-n1656oc-4gd\n",
      "/products/83911-msi-geforce-gtx-1650-d6-ventus-xs-oc-gtx-1650-d6-ventus-xs-oc\n",
      "/products/238622-msi-geforce-rtx-3050-lp-6g-oc-rtx-3050-lp-6g-oc\n",
      "/products/235256-msi-geforce-rtx-3050-ventus-2x-6g-oc\n",
      "/products/123619-zotac-gaming-geforce-gtx-1650-amp-core-zt-t16520j-10l\n",
      "/products/82449-msi-geforce-gtx-1650-d6-gaming-x-gtx-1650-d6-gaming-x\n",
      "/products/249457-palit-geforce-rtx-3050-stormx-6gb-ne63050018je-1070f\n",
      "/products/254890-zotac-gaming-geforce-rtx-3050-6gb-gddr6-lp-zt-a30510l-10l\n",
      "/products/253675-zotac-gaming-geforce-rtx-3050-6gb-zt-a30510g-10l\n",
      "/products/87766-gigabyte-geforce-gtx-1650-d6-oc-4g-rev-20-gv-n1656oc-4gd-rev-20\n",
      "/products/237567-gigabyte-geforce-rtx-3050-oc-low-profile-6g-gv-n3050oc-6gl\n",
      "/products/228332-msi-geforce-gtx-1650-d6-ventus-xs-ocv3-gtx-1650-d6-ventus-xs-ocv3\n",
      "/products/248951-gigabyte-geforce-rtx-3050-windforce-oc-6g-gv-n3050wf2oc-6gd\n",
      "/products/202222-pny-geforce-gtx-1650-dual-fan-vcg16504d6dfxpb1\n",
      "/products/235231-msi-geforce-rtx-3050-gaming-x-6g-rtx-3050-gaming-x-6g\n",
      "/products/238236-asus-dual-rtx3050-o6g\n",
      "/products/265426-gigabyte-geforce-rtx-3050-windforce-gv-n3050wf2ocv2-6gd\n",
      "/products/69416-galax-geforce-rtx-2060-super-1-click-oc-26isl6hp39ss\n"
     ]
    }
   ],
   "source": [
    "url = 'https://www.solotodo.cl/video_cards?gpu_families=106058&gpu_lines=887442&gpu_lines=819952&gpu_lines=1240913&gpu_lines=1651050&gpu_lines=2014763&page=1'\n",
    "\n",
    "options = webdriver.ChromeOptions()\n",
    "service = Service(ChromeDriverManager().install())\n",
    "driver = webdriver.Chrome(service=service, options=options)\n",
    "driver.get(url)\n",
    "\n",
    "sleep(5)\n",
    "soup = BeautifulSoup(driver.page_source, 'html.parser')\n",
    "nombres = soup.find_all(class_=\"MuiTypography-h5\")\n",
    "precios = soup.find_all(class_=\"MuiTypography-h2\")\n",
    "\n",
    "product_divs = soup.find_all(\"div\", class_=\"css-1g4yje1\")\n",
    "\n",
    "links = [\"solotodo.com\"]\n",
    "for div in product_divs:\n",
    "    a_tags = div.find_all(\"a\", href=True)\n",
    "    for a_tag in a_tags:\n",
    "        full_url = a_tag[\"href\"]\n",
    "        links.append(full_url)\n",
    "\n",
    "for link in links:\n",
    "    print(link)\n"
   ]
  }
 ],
 "metadata": {
  "kernelspec": {
   "display_name": ".venv",
   "language": "python",
   "name": "python3"
  },
  "language_info": {
   "codemirror_mode": {
    "name": "ipython",
    "version": 3
   },
   "file_extension": ".py",
   "mimetype": "text/x-python",
   "name": "python",
   "nbconvert_exporter": "python",
   "pygments_lexer": "ipython3",
   "version": "3.13.2"
  }
 },
 "nbformat": 4,
 "nbformat_minor": 2
}
